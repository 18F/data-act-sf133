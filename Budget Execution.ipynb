{
 "cells": [
  {
   "cell_type": "markdown",
   "metadata": {},
   "source": [
    "# SF-133 Budget Execution"
   ]
  },
  {
   "cell_type": "markdown",
   "metadata": {},
   "source": [
    "## Background\n",
    "\n",
    "A handful of required DATA Act elements are found on the [Report on Budget Execution and Budgetary Resources (SF-133)](http://www.whitehouse.gov/sites/default/files/omb/assets/a11_current_year/s130.pdf).\n",
    "\n",
    "This notebook examines the quarterly SF-133s published by OMB and matches them to the following DATA Act elements:\n",
    "* Amount of budget authority appropriated\n",
    "* Obligated amount\n",
    "* Unobligated amount\n",
    "* ~~Amount of other budgetary resources~~\n",
    "* Outlay\n",
    "\n",
    "This notebook **does not** attempt to recreate the SF-133 from individual agency account trial balance submissions (via the USSGL <--> SF-133 crosswalk). "
   ]
  },
  {
   "cell_type": "code",
   "execution_count": 1,
   "metadata": {
    "collapsed": true
   },
   "outputs": [],
   "source": [
    "import pandas as pd\n",
    "from pyquery import PyQuery as pq\n",
    "from lxml import etree\n",
    "from urllib.parse import urljoin\n",
    "from slugify import slugify"
   ]
  },
  {
   "cell_type": "markdown",
   "metadata": {},
   "source": [
    "## Get SF-133 Raw Data\n",
    "\n",
    "OMB maintains copies of SF-133s on its public MAX portal:  \n",
    "[Public MAX portal for Reports on Budget Execution and Budgetary Resources](https://max.omb.gov/maxportal/document/SF133/Budget/FY%202014%20-%20SF%20133%20Reports%20on%20Budget%20Execution%20and%20Budgetary%20Resources.html)"
   ]
  },
  {
   "cell_type": "code",
   "execution_count": 2,
   "metadata": {
    "collapsed": false
   },
   "outputs": [],
   "source": [
    "try:\n",
    "    sf133 = pd.read_csv('data/sf133_all.csv')\n",
    "except:\n",
    "    pages = {\n",
    "        '2013' : 'https://max.omb.gov/maxportal/document/SF133/Budget/FY%202013%20-%20SF%20133%20Reports%20on%20Budget%20Execution%20and%20Budgetary%20Resources.html',\n",
    "        '2014' : 'https://max.omb.gov/maxportal/document/SF133/Budget/FY%202014%20-%20SF%20133%20Reports%20on%20Budget%20Execution%20and%20Budgetary%20Resources.html',\n",
    "        '2015' : 'https://max.omb.gov/maxportal/document/SF133/Budget/FY%202013%20-%20SF%20133%20Reports%20on%20Budget%20Execution%20and%20Budgetary%20Resources.html'\n",
    "    }\n",
    "    #generate list of quarterly SF-133 URLs\n",
    "    #(quarterly reports are .xls and monthly reports are .xlsx, \n",
    "    #which makes it easier to grab the right ones)\n",
    "    urls = []\n",
    "    for year in pages:\n",
    "        html = pq(pages[year])\n",
    "        links = html('a[href$=\"xls\"]')\n",
    "        for link in links:\n",
    "            urls.append(urljoin(html.base_url, pq(link).attr['href']))\n",
    "\n",
    "    #concatenate the quarterly SF-133s\n",
    "    sf133 = pd.DataFrame()\n",
    "    for url in urls:\n",
    "        df = pd.read_excel(url, sheetname=0)\n",
    "        print ('adding {} rows from {}'.format(len(df.index), url))\n",
    "        sf133 = pd.concat([sf133, df])\n",
    "    #cleanup column names\n",
    "    sf133.columns = [slugify(\n",
    "        x, to_lower = True, separator = '_') for x in sf133.columns.values]\n",
    "    #save concatenated sf133\n",
    "    sf133.to_csv('data/sf133_all.csv', index=False)\n",
    "sf133.lno = sf133.lno.astype(str)"
   ]
  },
  {
   "cell_type": "markdown",
   "metadata": {},
   "source": [
    "## SF133 <--> DATA Act Crosswalk\n",
    "\n",
    "We've already done some work to match SF-133 lines to required\n",
    "DATA Act elements. This information (along with some detailed mapping\n",
    "info to the US General Ledger) is in a .csv file that ships with this notebook.\n",
    "\n",
    "Most information in the file is related to the General Ledger mapping, so we'll\n",
    "clean things up to get only what we want: the name of a DATA Act\n",
    "element and it's corresponding line on the SF-133"
   ]
  },
  {
   "cell_type": "code",
   "execution_count": 3,
   "metadata": {
    "collapsed": false
   },
   "outputs": [],
   "source": [
    "crosswalk = pd.read_csv('data/data_act_gl_mapping.csv')\n",
    "crosswalk.columns = [slugify(\n",
    "        x, to_lower=True, separator='_') for x in crosswalk.columns.values]\n",
    "crosswalk['da_element_number'], crosswalk['da_element_name'] = zip(\n",
    "    *crosswalk['data_act_element'].apply(lambda x: x.split(' - ', 1)))\n",
    "crosswalk = crosswalk[['da_element_number', 'da_element_name', 'sf_133_line_number']]\n",
    "crosswalk.drop_duplicates(inplace=True)"
   ]
  },
  {
   "cell_type": "markdown",
   "metadata": {},
   "source": [
    "Now we're left with a handful of DATA Act elements that can be\n",
    "dervied from the SF-133"
   ]
  },
  {
   "cell_type": "code",
   "execution_count": 4,
   "metadata": {
    "collapsed": false
   },
   "outputs": [
    {
     "data": {
      "text/html": [
       "<div style=\"max-height:1000px;max-width:1500px;overflow:auto;\">\n",
       "<table border=\"1\" class=\"dataframe\">\n",
       "  <thead>\n",
       "    <tr style=\"text-align: right;\">\n",
       "      <th></th>\n",
       "      <th>da_element_number</th>\n",
       "      <th>da_element_name</th>\n",
       "      <th>sf_133_line_number</th>\n",
       "    </tr>\n",
       "  </thead>\n",
       "  <tbody>\n",
       "    <tr>\n",
       "      <th>0  </th>\n",
       "      <td> 52</td>\n",
       "      <td> Amount of Budget Authority Appropriated</td>\n",
       "      <td>                      1900</td>\n",
       "    </tr>\n",
       "    <tr>\n",
       "      <th>420</th>\n",
       "      <td> 53</td>\n",
       "      <td>                        Obligated Amount</td>\n",
       "      <td>                      2190</td>\n",
       "    </tr>\n",
       "    <tr>\n",
       "      <th>524</th>\n",
       "      <td> 54</td>\n",
       "      <td>                      Unobligated Amount</td>\n",
       "      <td>                      2490</td>\n",
       "    </tr>\n",
       "    <tr>\n",
       "      <th>549</th>\n",
       "      <td> 55</td>\n",
       "      <td>     Amount of Other Budgetary Resources</td>\n",
       "      <td> need more info/definition</td>\n",
       "    </tr>\n",
       "    <tr>\n",
       "      <th>550</th>\n",
       "      <td> 57</td>\n",
       "      <td>                                  Outlay</td>\n",
       "      <td>                      4190</td>\n",
       "    </tr>\n",
       "  </tbody>\n",
       "</table>\n",
       "</div>"
      ],
      "text/plain": [
       "    da_element_number                          da_element_name  \\\n",
       "0                  52  Amount of Budget Authority Appropriated   \n",
       "420                53                         Obligated Amount   \n",
       "524                54                       Unobligated Amount   \n",
       "549                55      Amount of Other Budgetary Resources   \n",
       "550                57                                   Outlay   \n",
       "\n",
       "            sf_133_line_number  \n",
       "0                         1900  \n",
       "420                       2190  \n",
       "524                       2490  \n",
       "549  need more info/definition  \n",
       "550                       4190  "
      ]
     },
     "execution_count": 4,
     "metadata": {},
     "output_type": "execute_result"
    }
   ],
   "source": [
    "crosswalk\n"
   ]
  },
  {
   "cell_type": "markdown",
   "metadata": {},
   "source": [
    "## Get DATA Act-Related Subset of SF-133\n",
    "\n",
    "Create a subset of the SF-133 limited to DATA Act lines."
   ]
  },
  {
   "cell_type": "code",
   "execution_count": 5,
   "metadata": {
    "collapsed": true
   },
   "outputs": [],
   "source": [
    "sf133_data_act = pd.merge(\n",
    "    sf133, crosswalk,\n",
    "    left_on = 'lno',\n",
    "    right_on = 'sf_133_line_number'\n",
    ")"
   ]
  },
  {
   "cell_type": "markdown",
   "metadata": {},
   "source": [
    "## Explore the Data\n",
    "\n",
    "(coming soon)"
   ]
  }
 ],
 "metadata": {
  "kernelspec": {
   "display_name": "Python 3",
   "language": "python",
   "name": "python3"
  },
  "language_info": {
   "codemirror_mode": {
    "name": "ipython",
    "version": 3
   },
   "file_extension": ".py",
   "mimetype": "text/x-python",
   "name": "python",
   "nbconvert_exporter": "python",
   "pygments_lexer": "ipython3",
   "version": "3.4.2"
  }
 },
 "nbformat": 4,
 "nbformat_minor": 0
}
